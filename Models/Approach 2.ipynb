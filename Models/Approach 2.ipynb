{
  "cells": [
    {
      "cell_type": "code",
      "execution_count": 1,
      "metadata": {
        "colab": {
          "base_uri": "https://localhost:8080/"
        },
        "id": "tgRL45ROp2R2",
        "outputId": "4757593a-c4d1-4e8f-f197-ae71300ca263"
      },
      "outputs": [
        {
          "output_type": "stream",
          "name": "stderr",
          "text": [
            "[nltk_data] Downloading package stopwords to /root/nltk_data...\n",
            "[nltk_data]   Unzipping corpora/stopwords.zip.\n",
            "[nltk_data] Downloading package averaged_perceptron_tagger to\n",
            "[nltk_data]     /root/nltk_data...\n",
            "[nltk_data]   Unzipping taggers/averaged_perceptron_tagger.zip.\n",
            "[nltk_data] Downloading package punkt to /root/nltk_data...\n",
            "[nltk_data]   Unzipping tokenizers/punkt.zip.\n",
            "[nltk_data] Downloading package wordnet to /root/nltk_data...\n"
          ]
        },
        {
          "output_type": "execute_result",
          "data": {
            "text/plain": [
              "True"
            ]
          },
          "metadata": {},
          "execution_count": 1
        }
      ],
      "source": [
        "import nltk\n",
        "nltk.download('stopwords')\n",
        "nltk.download('averaged_perceptron_tagger')\n",
        "nltk.download('punkt')\n",
        "nltk.download('wordnet')"
      ]
    },
    {
      "cell_type": "code",
      "execution_count": 2,
      "metadata": {
        "id": "_cKYnYmDoef5"
      },
      "outputs": [],
      "source": [
        "import pandas as pd\n",
        "import time\n",
        "from sklearn.feature_extraction.text import TfidfVectorizer\n",
        "from sklearn.model_selection import train_test_split\n",
        "from sklearn.naive_bayes import MultinomialNB\n",
        "from sklearn.ensemble import RandomForestClassifier\n",
        "from sklearn.svm import SVC\n",
        "from sklearn.ensemble import GradientBoostingClassifier\n",
        "from sklearn.neighbors import KNeighborsClassifier\n",
        "from sklearn.metrics import accuracy_score\n",
        "from nltk.tokenize import word_tokenize\n",
        "from nltk.corpus import stopwords\n",
        "from nltk.stem import WordNetLemmatizer\n",
        "from nltk import pos_tag\n",
        "import string\n"
      ]
    },
    {
      "cell_type": "code",
      "execution_count": 3,
      "metadata": {
        "colab": {
          "base_uri": "https://localhost:8080/"
        },
        "id": "ReYENOOWo5JX",
        "outputId": "102f8f88-f23a-4e09-91bf-f9474fc48f15"
      },
      "outputs": [
        {
          "output_type": "stream",
          "name": "stdout",
          "text": [
            "Mounted at /content/drive\n",
            "/content/drive/MyDrive/IMDBText\n"
          ]
        }
      ],
      "source": [
        "from google.colab import drive\n",
        "drive.mount('/content/drive')\n",
        "\n",
        "%cd /content/drive/MyDrive/IMDBText\n",
        "\n"
      ]
    },
    {
      "cell_type": "code",
      "source": [
        "import pandas as pd\n",
        "train_data = pd.read_csv('train.csv')\n",
        "test_data = pd.read_csv('test.csv')"
      ],
      "metadata": {
        "id": "0WjGyNFA8i9R"
      },
      "execution_count": 4,
      "outputs": []
    },
    {
      "cell_type": "markdown",
      "metadata": {
        "id": "seYTVFOOtzSb"
      },
      "source": [
        "# Preprocessing"
      ]
    },
    {
      "cell_type": "code",
      "execution_count": 5,
      "metadata": {
        "id": "Q_BPwqcMozx6"
      },
      "outputs": [],
      "source": [
        "# Function for text preprocessing\n",
        "def preprocess_text(text):\n",
        "    tokens = word_tokenize(text)\n",
        "    lemmatizer = WordNetLemmatizer()\n",
        "    tokens = [lemmatizer.lemmatize(token) for token in tokens]\n",
        "    stop_words = set(stopwords.words('english'))\n",
        "    tokens = [token for token in tokens if token.lower() not in stop_words and token not in string.punctuation]\n",
        "    return ' '.join(tokens)"
      ]
    },
    {
      "cell_type": "code",
      "execution_count": 6,
      "metadata": {
        "id": "7SQwpIreocTp"
      },
      "outputs": [],
      "source": [
        "# Preprocess the text data\n",
        "train_data['review'] = train_data['review'].apply(preprocess_text)\n",
        "test_data['review'] = test_data['review'].apply(preprocess_text)\n"
      ]
    },
    {
      "cell_type": "markdown",
      "metadata": {
        "id": "Roxq94bltwLQ"
      },
      "source": [
        "## TF-IDF"
      ]
    },
    {
      "cell_type": "code",
      "execution_count": 7,
      "metadata": {
        "id": "E-tlW48_purp"
      },
      "outputs": [],
      "source": [
        "# Vectorize the text data using TF-IDF\n",
        "tfidf_vectorizer = TfidfVectorizer(max_features=5000)\n",
        "\n",
        "# Transform training and test data\n",
        "X_train_tfidf = tfidf_vectorizer.fit_transform(train_data['review'])\n",
        "X_test_tfidf = tfidf_vectorizer.transform(test_data['review'])\n",
        "y_train = train_data['sentiment']\n",
        "y_test = test_data['sentiment']"
      ]
    },
    {
      "cell_type": "markdown",
      "metadata": {
        "id": "ob2VGrx9tee9"
      },
      "source": [
        "## Different machine learning models on the training data"
      ]
    },
    {
      "cell_type": "markdown",
      "metadata": {
        "id": "14pF3ue5t4Ft"
      },
      "source": [
        "### **Naive Bayes**"
      ]
    },
    {
      "cell_type": "code",
      "execution_count": 8,
      "metadata": {
        "id": "vOGRi2wbqKyV"
      },
      "outputs": [],
      "source": [
        "# Naive Bayes\n",
        "nb_classifier = MultinomialNB()\n",
        "nb_classifier.fit(X_train_tfidf, y_train)\n",
        "start_time = time.time()\n"
      ]
    },
    {
      "cell_type": "code",
      "execution_count": 9,
      "metadata": {
        "id": "K-H_8ClvtTND"
      },
      "outputs": [],
      "source": [
        "# Make predictions on the test data\n",
        "nb_pred = nb_classifier.predict(X_test_tfidf)\n",
        "nb_training_time = time.time() - start_time\n"
      ]
    },
    {
      "cell_type": "code",
      "execution_count": 10,
      "metadata": {
        "colab": {
          "base_uri": "https://localhost:8080/"
        },
        "id": "wlo9cu_BtL4C",
        "outputId": "8f05ac6b-0491-463c-fc5b-30c0fc1a1738"
      },
      "outputs": [
        {
          "output_type": "stream",
          "name": "stdout",
          "text": [
            "Naive Bayes Accuracy: 0.8573\n",
            "Naive Bayes Training Time: 0.023512601852416992 seconds\n"
          ]
        }
      ],
      "source": [
        "# Evaluate the accuracy of models on the test data\n",
        "nb_accuracy = accuracy_score(y_test, nb_pred)\n",
        "print(\"Naive Bayes Accuracy:\", nb_accuracy)\n",
        "print(\"Naive Bayes Training Time:\", nb_training_time, \"seconds\")\n"
      ]
    },
    {
      "cell_type": "markdown",
      "source": [
        "#### **Naive Bayes Accuracy: 0.8573**"
      ],
      "metadata": {
        "id": "uLMrpeXo9guq"
      }
    },
    {
      "cell_type": "markdown",
      "metadata": {
        "id": "c7lb2gXZt_y9"
      },
      "source": [
        "### **Random Forest**"
      ]
    },
    {
      "cell_type": "code",
      "execution_count": 11,
      "metadata": {
        "id": "gIoWLfWXtWUB"
      },
      "outputs": [],
      "source": [
        "# Random Forest\n",
        "rf_classifier = RandomForestClassifier(n_estimators=100, random_state=42)\n",
        "rf_classifier.fit(X_train_tfidf, y_train)\n",
        "start_time = time.time()"
      ]
    },
    {
      "cell_type": "code",
      "execution_count": 12,
      "metadata": {
        "id": "_8EorJX_uD_8"
      },
      "outputs": [],
      "source": [
        "# Make predictions on the test data\n",
        "rf_pred = rf_classifier.predict(X_test_tfidf)\n",
        "rf_training_time = time.time() - start_time\n"
      ]
    },
    {
      "cell_type": "code",
      "execution_count": 13,
      "metadata": {
        "id": "tEJO4eMBuGbt",
        "colab": {
          "base_uri": "https://localhost:8080/"
        },
        "outputId": "5e9b9798-a6ff-4cf0-e69d-f40459c4dfdc"
      },
      "outputs": [
        {
          "output_type": "stream",
          "name": "stdout",
          "text": [
            "Random Forest Accuracy: 0.85015\n",
            "Random Forest Training Time: 1.121053695678711 seconds\n"
          ]
        }
      ],
      "source": [
        "# Evaluate the accuracy of models on the test data\n",
        "rf_accuracy = accuracy_score(y_test, rf_pred)\n",
        "print(\"Random Forest Accuracy:\", rf_accuracy)\n",
        "print(\"Random Forest Training Time:\", rf_training_time, \"seconds\")\n"
      ]
    },
    {
      "cell_type": "markdown",
      "source": [
        "#### **Random Forest Accuracy: 0.85015**"
      ],
      "metadata": {
        "id": "EYNLlhVc-CrT"
      }
    },
    {
      "cell_type": "markdown",
      "metadata": {
        "id": "_MR-k-65uQEs"
      },
      "source": [
        "### **SVM**"
      ]
    },
    {
      "cell_type": "code",
      "source": [
        "# Initialize SVM classifier\n",
        "svm_classifier = SVC(kernel='linear')\n",
        "start_time = time.time()\n",
        "svm_classifier.fit(X_train_tfidf, y_train)\n",
        "svm_training_time = time.time() - start_time\n"
      ],
      "metadata": {
        "id": "lwAJq3y5JTyI"
      },
      "execution_count": 14,
      "outputs": []
    },
    {
      "cell_type": "code",
      "source": [
        "# Evaluate accuracy of SVM\n",
        "svm_pred = svm_classifier.predict(X_test_tfidf)\n",
        "svm_accuracy = accuracy_score(y_test, svm_pred)\n",
        "\n",
        "print(\"SVM Accuracy on Test Data:\", svm_accuracy)\n",
        "print(\"SVM Training Time:\", svm_training_time, \"seconds\")"
      ],
      "metadata": {
        "colab": {
          "base_uri": "https://localhost:8080/"
        },
        "id": "J9jaONLIJWPz",
        "outputId": "ac07ba40-f1df-4814-ff04-c6a919c3952a"
      },
      "execution_count": 15,
      "outputs": [
        {
          "output_type": "stream",
          "name": "stdout",
          "text": [
            "SVM Accuracy on Test Data: 0.8866\n",
            "SVM Training Time: 625.0415663719177 seconds\n"
          ]
        }
      ]
    },
    {
      "cell_type": "markdown",
      "source": [
        "#### **SVM Accuracy on Test Data: 0.8866**"
      ],
      "metadata": {
        "id": "PjCHr0dbQzMt"
      }
    },
    {
      "cell_type": "markdown",
      "source": [
        "### **GBM**"
      ],
      "metadata": {
        "id": "EVPne8V8Kzel"
      }
    },
    {
      "cell_type": "code",
      "source": [
        "# Initialize GBM classifier\n",
        "gbm_classifier = GradientBoostingClassifier()\n",
        "start_time = time.time()\n",
        "gbm_classifier.fit(X_train_tfidf, y_train)\n",
        "gbm_training_time = time.time() - start_time\n"
      ],
      "metadata": {
        "id": "CSJLCXFJJXpq"
      },
      "execution_count": 16,
      "outputs": []
    },
    {
      "cell_type": "code",
      "source": [
        "# Evaluate accuracy of GBM\n",
        "gbm_pred = gbm_classifier.predict(X_test_tfidf)\n",
        "gbm_accuracy = accuracy_score(y_test, gbm_pred)\n",
        "\n",
        "print(\"GBM Accuracy on Test Data:\", gbm_accuracy)\n",
        "print(\"GBM Training Time:\", gbm_training_time, \"seconds\")"
      ],
      "metadata": {
        "colab": {
          "base_uri": "https://localhost:8080/"
        },
        "id": "_3gyYN53Krf5",
        "outputId": "c211a386-29c7-4ba8-fb56-522e9cd33131"
      },
      "execution_count": 17,
      "outputs": [
        {
          "output_type": "stream",
          "name": "stdout",
          "text": [
            "GBM Accuracy on Test Data: 0.81315\n",
            "GBM Training Time: 144.13138127326965 seconds\n"
          ]
        }
      ]
    },
    {
      "cell_type": "markdown",
      "source": [
        "#### **GBM Accuracy on Test Data: 0.81315**"
      ],
      "metadata": {
        "id": "YY0zUwGyTve5"
      }
    }
  ],
  "metadata": {
    "colab": {
      "provenance": []
    },
    "kernelspec": {
      "display_name": "Python 3",
      "name": "python3"
    },
    "language_info": {
      "name": "python"
    }
  },
  "nbformat": 4,
  "nbformat_minor": 0
}